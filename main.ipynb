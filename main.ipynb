{
 "cells": [
  {
   "cell_type": "markdown",
   "id": "f58201e5-0d07-4504-aadf-d8f4998967c5",
   "metadata": {},
   "source": [
    "# Yad2 Web Scraping\n",
    "<img src=\"images/yad2Logo.png\" alt=\"drawing\" width=\"300\"/>"
   ]
  },
  {
   "cell_type": "markdown",
   "id": "6211e996-cd5a-483b-81b0-05365d84d3e8",
   "metadata": {},
   "source": [
    "### Goals:\n",
    "1) Scrap data to local computer for price statistics according tovarious parameters (area, number of rooms, floor, city and neighborhood).\n",
    "2) Create An interactive heat map for a convenient comparison of prices by area and house data as following:"
   ]
  },
  {
   "cell_type": "markdown",
   "id": "c044cb80-1b88-400d-a0de-bd2dbc727c24",
   "metadata": {},
   "source": [
    "<img src=\"images/heat_map_example.png\" alt=\"drawing\" width=\"300\"/>"
   ]
  },
  {
   "cell_type": "code",
   "execution_count": 1,
   "id": "d69905ac-e3f7-4373-bc69-0f279e68d2c8",
   "metadata": {},
   "outputs": [],
   "source": [
    "import requests\n",
    "from bs4 import BeautifulSoup\n",
    "import pandas as pd\n",
    "from typing import List\n",
    "from concurrent.futures import ThreadPoolExecutor\n",
    "from datetime import datetime"
   ]
  },
  {
   "cell_type": "markdown",
   "id": "cb76a744-1a5c-4d5c-8d05-68d6d1963756",
   "metadata": {},
   "source": [
    "## Generate headers"
   ]
  },
  {
   "cell_type": "code",
   "execution_count": 2,
   "id": "baed9194-47a8-46d9-b439-054419dc83f7",
   "metadata": {},
   "outputs": [],
   "source": [
    "def get_Cookie() -> str:\n",
    "    s = requests.Session()\n",
    "    \n",
    "    res = s.get('https://gw.yad2.co.il/auth/token/refresh')\n",
    "    co_dict = res.cookies.get_dict()\n",
    "    \n",
    "    Cookie = ''\n",
    "    for key in co_dict:\n",
    "        Cookie += f'{key}={co_dict[key]}; '\n",
    "    \n",
    "    return Cookie\n",
    "\n",
    "def get_headers() -> dict:\n",
    "    headers = {\n",
    "        'Accept': 'application/json, text/plain, */*',\n",
    "        'Accept-Encoding': 'gzip, deflate, br',\n",
    "        'Accept-Language': 'he-IL,he;q=0.9,en-US;q=0.8,en;q=0.7',\n",
    "        'Connection': 'keep-alive',\n",
    "        'Host': 'www.yad2.co.il',\n",
    "        'mobile-app': 'false',\n",
    "        'Referer': 'https://www.yad2.co.il/realestate/forsale',\n",
    "        'sec-ch-ua': '\"Google Chrome\";v=\"107\", \"Chromium\";v=\"107\", \"Not=A?Brand\";v=\"24\"',\n",
    "        'sec-ch-ua-platform': '\"Windows\"',\n",
    "        'User-Agent': 'Mozilla/5.0 (Windows NT 10.0; Win64; x64) AppleWebKit/537.36 (KHTML, like Gecko) Chrome/107.0.0.0 Safari/537.36'\n",
    "    }\n",
    "    \n",
    "    headers['Cookie'] = get_Cookie()\n",
    "    \n",
    "    return headers"
   ]
  },
  {
   "cell_type": "markdown",
   "id": "af8df56d-8134-4598-b6b4-89144394385d",
   "metadata": {},
   "source": [
    "## Get required headers for auth"
   ]
  },
  {
   "cell_type": "code",
   "execution_count": 3,
   "id": "b137a9d7-4d73-4ac7-ad96-d663b412aae0",
   "metadata": {},
   "outputs": [],
   "source": [
    "headers = get_headers()"
   ]
  },
  {
   "cell_type": "markdown",
   "id": "b11b0c63-21eb-49b8-b394-5d31d28f1ba3",
   "metadata": {},
   "source": [
    "## Scraping functions"
   ]
  },
  {
   "cell_type": "code",
   "execution_count": 4,
   "id": "437f16bd-dbc6-4240-bc69-633fac1d4e7c",
   "metadata": {},
   "outputs": [],
   "source": [
    "def get_feeditems(page_num=1) -> List[BeautifulSoup]:\n",
    "    if page_num % 50 == 0:\n",
    "        print(f'{page_num} pages has been scaned so far')\n",
    "    uri = f'https://www.yad2.co.il/realestate/forsale?page={page_num}'\n",
    "\n",
    "    res = requests.get(uri, headers=headers)\n",
    "    soup = BeautifulSoup(res.text)\n",
    "    \n",
    "    return soup.find_all('div', class_=\"feeditem table\")\n",
    "\n",
    "def get_item_date(item: BeautifulSoup) -> str:\n",
    "    if (today := item.find('span', class_='date')) and ((today := today.string.strip()) != 'עודכן היום'):\n",
    "        return today\n",
    "    else:\n",
    "        return datetime.today().strftime('%Y/%m/%d')\n",
    "\n",
    "def get_house_data(feeditem: BeautifulSoup) -> dict:\n",
    "    title = feeditem.find('span', class_='title').text.strip()\n",
    "\n",
    "    subtitle = feeditem.find('span', class_='subtitle').text\n",
    "    subtitle = tuple(sub_part.strip() for sub_part in subtitle.split(','))\n",
    "    type_ = subtitle[0]\n",
    "    city = subtitle[-1]\n",
    "\n",
    "    price = feeditem.find('div', class_='price').string.strip()\n",
    "\n",
    "    attr = tuple(span.string for span in feeditem.find('div', class_=\"middle_col\").find_all('span'))\n",
    "    rooms, floor, size = str(attr[0]), str(attr[2]), str(attr[4])\n",
    "\n",
    "    try:\n",
    "        price = int(price[:-2].replace(',', ''))\n",
    "        return {\n",
    "            'price': price,\n",
    "            'address': title,\n",
    "            'city': city,\n",
    "            'type': type_,\n",
    "            'rooms': int(rooms),\n",
    "            'floor': int(floor),\n",
    "            'size': int(size),\n",
    "            'update': get_item_date(feeditem),\n",
    "            'scrap_date': datetime.today().strftime('%Y/%m/%d')\n",
    "        }\n",
    "    except:\n",
    "        return {}\n",
    "\n",
    "def feeditems_to_data_pre_normal(feeditems: List[BeautifulSoup]) -> List[dict]:\n",
    "    return [get_house_data(feeditem) for feeditem in feeditems]\n"
   ]
  },
  {
   "cell_type": "markdown",
   "id": "381865df-b4cc-4ee8-a422-42642a1fe121",
   "metadata": {},
   "source": [
    "## Get data of posts from first 1000 pages (orderd by date)"
   ]
  },
  {
   "cell_type": "code",
   "execution_count": 5,
   "id": "c51a266c-8b95-4f1c-8806-35395bf4b93e",
   "metadata": {
    "tags": []
   },
   "outputs": [],
   "source": [
    "# change \"last_page\" to the count of pages you want to scrape\n",
    "last_page = 10"
   ]
  },
  {
   "cell_type": "code",
   "execution_count": 6,
   "id": "889edfdd-c249-4084-8847-1c85e801f27d",
   "metadata": {
    "tags": []
   },
   "outputs": [],
   "source": [
    "result = []\n",
    "\n",
    "with ThreadPoolExecutor(max_workers=64) as executor:\n",
    "    res_list = executor.map(lambda i: feeditems_to_data_pre_normal(get_feeditems(i)), range(1, last_page))\n",
    "    for res in res_list:\n",
    "        result.extend(res)"
   ]
  },
  {
   "cell_type": "markdown",
   "id": "455cb355-aceb-40ef-8c81-80ecbcf16317",
   "metadata": {},
   "source": [
    "### Posts with no numeric price return empty dict and need to be removed"
   ]
  },
  {
   "cell_type": "code",
   "execution_count": 7,
   "id": "03009f25-569b-4d2d-9fa0-96dcd5b8304e",
   "metadata": {
    "tags": []
   },
   "outputs": [],
   "source": [
    "result = filter(lambda x: x, result)"
   ]
  },
  {
   "cell_type": "markdown",
   "id": "010402e1-ad45-46e7-b92f-0ef716f85921",
   "metadata": {},
   "source": [
    "## Convert to pandas DataFrame"
   ]
  },
  {
   "cell_type": "code",
   "execution_count": 8,
   "id": "98f6da89-af7b-4560-9ec4-430b2ee55ec7",
   "metadata": {},
   "outputs": [
    {
     "data": {
      "text/html": [
       "<div>\n",
       "<style scoped>\n",
       "    .dataframe tbody tr th:only-of-type {\n",
       "        vertical-align: middle;\n",
       "    }\n",
       "\n",
       "    .dataframe tbody tr th {\n",
       "        vertical-align: top;\n",
       "    }\n",
       "\n",
       "    .dataframe thead th {\n",
       "        text-align: right;\n",
       "    }\n",
       "</style>\n",
       "<table border=\"1\" class=\"dataframe\">\n",
       "  <thead>\n",
       "    <tr style=\"text-align: right;\">\n",
       "      <th></th>\n",
       "      <th>price</th>\n",
       "      <th>address</th>\n",
       "      <th>city</th>\n",
       "      <th>type</th>\n",
       "      <th>rooms</th>\n",
       "      <th>floor</th>\n",
       "      <th>size</th>\n",
       "      <th>update</th>\n",
       "      <th>scrap_date</th>\n",
       "    </tr>\n",
       "  </thead>\n",
       "  <tbody>\n",
       "    <tr>\n",
       "      <th>0</th>\n",
       "      <td>5440000</td>\n",
       "      <td>הכרמים 16</td>\n",
       "      <td>נס ציונה</td>\n",
       "      <td>דירת גן</td>\n",
       "      <td>5</td>\n",
       "      <td>3</td>\n",
       "      <td>305</td>\n",
       "      <td>2022/11/05</td>\n",
       "      <td>2022/11/05</td>\n",
       "    </tr>\n",
       "    <tr>\n",
       "      <th>1</th>\n",
       "      <td>1430000</td>\n",
       "      <td>התאנה 1</td>\n",
       "      <td>מגדל</td>\n",
       "      <td>דירה</td>\n",
       "      <td>3</td>\n",
       "      <td>1</td>\n",
       "      <td>105</td>\n",
       "      <td>2022/11/05</td>\n",
       "      <td>2022/11/05</td>\n",
       "    </tr>\n",
       "    <tr>\n",
       "      <th>2</th>\n",
       "      <td>2200000</td>\n",
       "      <td>נחל ירקון 5</td>\n",
       "      <td>קרית גת</td>\n",
       "      <td>דירה</td>\n",
       "      <td>5</td>\n",
       "      <td>13</td>\n",
       "      <td>140</td>\n",
       "      <td>2022/11/05</td>\n",
       "      <td>2022/11/05</td>\n",
       "    </tr>\n",
       "    <tr>\n",
       "      <th>3</th>\n",
       "      <td>2260000</td>\n",
       "      <td>עיר דוד 16</td>\n",
       "      <td>פדואל</td>\n",
       "      <td>דירת גן</td>\n",
       "      <td>5</td>\n",
       "      <td>1</td>\n",
       "      <td>175</td>\n",
       "      <td>2022/11/05</td>\n",
       "      <td>2022/11/05</td>\n",
       "    </tr>\n",
       "    <tr>\n",
       "      <th>4</th>\n",
       "      <td>3100000</td>\n",
       "      <td>תוצרת הארץ 5</td>\n",
       "      <td>תל אביב יפו</td>\n",
       "      <td>דירה</td>\n",
       "      <td>2</td>\n",
       "      <td>16</td>\n",
       "      <td>66</td>\n",
       "      <td>2022/11/05</td>\n",
       "      <td>2022/11/05</td>\n",
       "    </tr>\n",
       "    <tr>\n",
       "      <th>...</th>\n",
       "      <td>...</td>\n",
       "      <td>...</td>\n",
       "      <td>...</td>\n",
       "      <td>...</td>\n",
       "      <td>...</td>\n",
       "      <td>...</td>\n",
       "      <td>...</td>\n",
       "      <td>...</td>\n",
       "      <td>...</td>\n",
       "    </tr>\n",
       "    <tr>\n",
       "      <th>172</th>\n",
       "      <td>9990000</td>\n",
       "      <td>אלון</td>\n",
       "      <td>רמת השרון</td>\n",
       "      <td>גג/פנטהאוז</td>\n",
       "      <td>4</td>\n",
       "      <td>2</td>\n",
       "      <td>260</td>\n",
       "      <td>2022/11/05</td>\n",
       "      <td>2022/11/05</td>\n",
       "    </tr>\n",
       "    <tr>\n",
       "      <th>173</th>\n",
       "      <td>3150000</td>\n",
       "      <td>סוקולוב 6</td>\n",
       "      <td>הרצליה</td>\n",
       "      <td>דירה</td>\n",
       "      <td>3</td>\n",
       "      <td>15</td>\n",
       "      <td>80</td>\n",
       "      <td>2022/11/05</td>\n",
       "      <td>2022/11/05</td>\n",
       "    </tr>\n",
       "    <tr>\n",
       "      <th>174</th>\n",
       "      <td>1399000</td>\n",
       "      <td>כרמל מערבי</td>\n",
       "      <td>חיפה</td>\n",
       "      <td>דירה</td>\n",
       "      <td>4</td>\n",
       "      <td>2</td>\n",
       "      <td>90</td>\n",
       "      <td>2022/11/05</td>\n",
       "      <td>2022/11/05</td>\n",
       "    </tr>\n",
       "    <tr>\n",
       "      <th>175</th>\n",
       "      <td>3800000</td>\n",
       "      <td>דגניה 10</td>\n",
       "      <td>חולון</td>\n",
       "      <td>דירה</td>\n",
       "      <td>5</td>\n",
       "      <td>1</td>\n",
       "      <td>120</td>\n",
       "      <td>2022/11/05</td>\n",
       "      <td>2022/11/05</td>\n",
       "    </tr>\n",
       "    <tr>\n",
       "      <th>176</th>\n",
       "      <td>1600000</td>\n",
       "      <td>רמת אלמוגי</td>\n",
       "      <td>חיפה</td>\n",
       "      <td>דירה</td>\n",
       "      <td>6</td>\n",
       "      <td>8</td>\n",
       "      <td>160</td>\n",
       "      <td>2022/11/05</td>\n",
       "      <td>2022/11/05</td>\n",
       "    </tr>\n",
       "  </tbody>\n",
       "</table>\n",
       "<p>177 rows × 9 columns</p>\n",
       "</div>"
      ],
      "text/plain": [
       "       price       address         city        type  rooms  floor  size  \\\n",
       "0    5440000     הכרמים 16     נס ציונה     דירת גן      5      3   305   \n",
       "1    1430000       התאנה 1         מגדל        דירה      3      1   105   \n",
       "2    2200000   נחל ירקון 5      קרית גת        דירה      5     13   140   \n",
       "3    2260000    עיר דוד 16        פדואל     דירת גן      5      1   175   \n",
       "4    3100000  תוצרת הארץ 5  תל אביב יפו        דירה      2     16    66   \n",
       "..       ...           ...          ...         ...    ...    ...   ...   \n",
       "172  9990000          אלון    רמת השרון  גג/פנטהאוז      4      2   260   \n",
       "173  3150000     סוקולוב 6       הרצליה        דירה      3     15    80   \n",
       "174  1399000    כרמל מערבי         חיפה        דירה      4      2    90   \n",
       "175  3800000      דגניה 10        חולון        דירה      5      1   120   \n",
       "176  1600000    רמת אלמוגי         חיפה        דירה      6      8   160   \n",
       "\n",
       "         update  scrap_date  \n",
       "0    2022/11/05  2022/11/05  \n",
       "1    2022/11/05  2022/11/05  \n",
       "2    2022/11/05  2022/11/05  \n",
       "3    2022/11/05  2022/11/05  \n",
       "4    2022/11/05  2022/11/05  \n",
       "..          ...         ...  \n",
       "172  2022/11/05  2022/11/05  \n",
       "173  2022/11/05  2022/11/05  \n",
       "174  2022/11/05  2022/11/05  \n",
       "175  2022/11/05  2022/11/05  \n",
       "176  2022/11/05  2022/11/05  \n",
       "\n",
       "[177 rows x 9 columns]"
      ]
     },
     "execution_count": 8,
     "metadata": {},
     "output_type": "execute_result"
    }
   ],
   "source": [
    "df = pd.json_normalize(result)\n",
    "df"
   ]
  },
  {
   "cell_type": "markdown",
   "id": "9f0889f9-7460-497c-b2c4-e4191adf5d94",
   "metadata": {},
   "source": [
    "## Save to your local computer"
   ]
  },
  {
   "cell_type": "code",
   "execution_count": null,
   "id": "93dc7d69-d34f-4124-8591-72fbcefddb76",
   "metadata": {},
   "outputs": [],
   "source": [
    "df.to_excel('Houses.xlsx', index=False)"
   ]
  },
  {
   "cell_type": "markdown",
   "id": "71a13bdc-fbe3-4677-9dee-1ebbb83a9e32",
   "metadata": {},
   "source": [
    "# Result\n",
    "1) Upload the table to [your own Google Sheets](https://docs.google.com/spreadsheets/u/0/).\n",
    "2) Build a dashbord in [google Looker (data studio)](https://datastudio.google.com/u/0/).\n",
    "3) Visit my [dashbord](https://datastudio.google.com/embed/reporting/90738cd2-b077-4b71-9b46-25bb2ce8e4c6/page/V806C)!"
   ]
  }
 ],
 "metadata": {
  "kernelspec": {
   "display_name": "Python 3.10.7 64-bit",
   "language": "python",
   "name": "python3"
  },
  "language_info": {
   "codemirror_mode": {
    "name": "ipython",
    "version": 3
   },
   "file_extension": ".py",
   "mimetype": "text/x-python",
   "name": "python",
   "nbconvert_exporter": "python",
   "pygments_lexer": "ipython3",
   "version": "3.10.7"
  },
  "vscode": {
   "interpreter": {
    "hash": "999d9b79ac094092b0c82a8dc1cdc0b94cca3920717e267b46aedd5735ff94e5"
   }
  }
 },
 "nbformat": 4,
 "nbformat_minor": 5
}
