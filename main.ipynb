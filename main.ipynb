{
 "cells": [
  {
   "cell_type": "markdown",
   "id": "f58201e5-0d07-4504-aadf-d8f4998967c5",
   "metadata": {},
   "source": [
    "# Yad2 Web Scraping\n",
    "<img src=\"images/yad2Logo.png\" alt=\"drawing\" width=\"300\"/>"
   ]
  },
  {
   "cell_type": "markdown",
   "id": "6211e996-cd5a-483b-81b0-05365d84d3e8",
   "metadata": {},
   "source": [
    "### Goals:\n",
    "1) Scrap data to local computer for price statistics according to various parameters (area, number of rooms, floor, city and neighborhood).\n",
    "2) Create An interactive heat map for a convenient comparison of prices by area and house data as following:"
   ]
  },
  {
   "cell_type": "markdown",
   "id": "c044cb80-1b88-400d-a0de-bd2dbc727c24",
   "metadata": {},
   "source": [
    "<img src=\"images/heat_map_example.png\" alt=\"drawing\" width=\"300\"/>"
   ]
  },
  {
   "cell_type": "code",
   "execution_count": 1,
   "id": "da385af9",
   "metadata": {},
   "outputs": [
    {
     "name": "stdout",
     "output_type": "stream",
     "text": [
      "Created HEADERS:\n",
      "{'Accept': 'application/json, text/plain, */*', 'Accept-Encoding': 'gzip, deflate, br', 'Accept-Language': 'he-IL,he;q=0.9,en-US;q=0.8,en;q=0.7', 'Connection': 'keep-alive', 'Host': 'www.yad2.co.il', 'mobile-app': 'false', 'Referer': 'https://www.yad2.co.il/realestate/forsale', 'sec-ch-ua': '\"Google Chrome\";v=\"107\", \"Chromium\";v=\"107\", \"Not=A?Brand\";v=\"24\"', 'sec-ch-ua-platform': '\"Windows\"', 'User-Agent': 'Mozilla/5.0 (Windows NT 10.0; Win64; x64) AppleWebKit/537.36 (KHTML, like Gecko) Chrome/107.0.0.0 Safari/537.36', 'Cookie': '__uzma=04452ec1-f722-4845-89d5-e6faf90afd1d; __uzmb=1667759688; __uzmc=398041043540; __uzmd=1667759688; __uzme=5861; '}\n"
     ]
    }
   ],
   "source": [
    "from general_scraper import *"
   ]
  },
  {
   "cell_type": "markdown",
   "id": "381865df-b4cc-4ee8-a422-42642a1fe121",
   "metadata": {},
   "source": [
    "## Get data of posts from first 1000 pages (orderd by date)"
   ]
  },
  {
   "cell_type": "code",
   "execution_count": 2,
   "id": "c51a266c-8b95-4f1c-8806-35395bf4b93e",
   "metadata": {
    "tags": []
   },
   "outputs": [],
   "source": [
    "# change \"last_page_num\" to the count of pages you want to scrape\n",
    "last_page_num = 10"
   ]
  },
  {
   "cell_type": "markdown",
   "id": "010402e1-ad45-46e7-b92f-0ef716f85921",
   "metadata": {},
   "source": [
    "## Convert to pandas DataFrame"
   ]
  },
  {
   "cell_type": "code",
   "execution_count": 3,
   "id": "98f6da89-af7b-4560-9ec4-430b2ee55ec7",
   "metadata": {},
   "outputs": [
    {
     "data": {
      "text/html": [
       "<div>\n",
       "<style scoped>\n",
       "    .dataframe tbody tr th:only-of-type {\n",
       "        vertical-align: middle;\n",
       "    }\n",
       "\n",
       "    .dataframe tbody tr th {\n",
       "        vertical-align: top;\n",
       "    }\n",
       "\n",
       "    .dataframe thead th {\n",
       "        text-align: right;\n",
       "    }\n",
       "</style>\n",
       "<table border=\"1\" class=\"dataframe\">\n",
       "  <thead>\n",
       "    <tr style=\"text-align: right;\">\n",
       "      <th></th>\n",
       "      <th>price</th>\n",
       "      <th>address</th>\n",
       "      <th>city</th>\n",
       "      <th>type</th>\n",
       "      <th>rooms</th>\n",
       "      <th>floor</th>\n",
       "      <th>size</th>\n",
       "      <th>update</th>\n",
       "      <th>scrap_date</th>\n",
       "    </tr>\n",
       "  </thead>\n",
       "  <tbody>\n",
       "    <tr>\n",
       "      <th>0</th>\n",
       "      <td>3150000</td>\n",
       "      <td>שדרות בגין 55</td>\n",
       "      <td>כפר יונה</td>\n",
       "      <td>גג/פנטהאוז</td>\n",
       "      <td>5</td>\n",
       "      <td>5</td>\n",
       "      <td>250</td>\n",
       "      <td>2022/11/06</td>\n",
       "      <td>2022/11/06</td>\n",
       "    </tr>\n",
       "    <tr>\n",
       "      <th>1</th>\n",
       "      <td>2200000</td>\n",
       "      <td>אירוס הארגמן 52</td>\n",
       "      <td>נתניה</td>\n",
       "      <td>דירה</td>\n",
       "      <td>4</td>\n",
       "      <td>2</td>\n",
       "      <td>84</td>\n",
       "      <td>2022/11/06</td>\n",
       "      <td>2022/11/06</td>\n",
       "    </tr>\n",
       "    <tr>\n",
       "      <th>2</th>\n",
       "      <td>880000</td>\n",
       "      <td>בר גיורא 42</td>\n",
       "      <td>חיפה</td>\n",
       "      <td>דירה</td>\n",
       "      <td>3</td>\n",
       "      <td>1</td>\n",
       "      <td>76</td>\n",
       "      <td>2022/11/06</td>\n",
       "      <td>2022/11/06</td>\n",
       "    </tr>\n",
       "    <tr>\n",
       "      <th>3</th>\n",
       "      <td>3100000</td>\n",
       "      <td>תוצרת הארץ 5</td>\n",
       "      <td>תל אביב יפו</td>\n",
       "      <td>דירה</td>\n",
       "      <td>2</td>\n",
       "      <td>16</td>\n",
       "      <td>66</td>\n",
       "      <td>2022/11/06</td>\n",
       "      <td>2022/11/06</td>\n",
       "    </tr>\n",
       "    <tr>\n",
       "      <th>4</th>\n",
       "      <td>1836000</td>\n",
       "      <td>שדרות ששת הימים 327</td>\n",
       "      <td>אילת</td>\n",
       "      <td>דירה</td>\n",
       "      <td>3</td>\n",
       "      <td>3</td>\n",
       "      <td>106</td>\n",
       "      <td>2022/11/06</td>\n",
       "      <td>2022/11/06</td>\n",
       "    </tr>\n",
       "    <tr>\n",
       "      <th>...</th>\n",
       "      <td>...</td>\n",
       "      <td>...</td>\n",
       "      <td>...</td>\n",
       "      <td>...</td>\n",
       "      <td>...</td>\n",
       "      <td>...</td>\n",
       "      <td>...</td>\n",
       "      <td>...</td>\n",
       "      <td>...</td>\n",
       "    </tr>\n",
       "    <tr>\n",
       "      <th>172</th>\n",
       "      <td>3200000</td>\n",
       "      <td>אחוזה</td>\n",
       "      <td>חיפה</td>\n",
       "      <td>גג/פנטהאוז</td>\n",
       "      <td>6</td>\n",
       "      <td>4</td>\n",
       "      <td>150</td>\n",
       "      <td>2022/11/06</td>\n",
       "      <td>2022/11/06</td>\n",
       "    </tr>\n",
       "    <tr>\n",
       "      <th>173</th>\n",
       "      <td>2190000</td>\n",
       "      <td>נחל תמנע</td>\n",
       "      <td>בית שמש</td>\n",
       "      <td>דירה</td>\n",
       "      <td>4</td>\n",
       "      <td>2</td>\n",
       "      <td>100</td>\n",
       "      <td>2022/11/06</td>\n",
       "      <td>2022/11/06</td>\n",
       "    </tr>\n",
       "    <tr>\n",
       "      <th>174</th>\n",
       "      <td>2540000</td>\n",
       "      <td>הנביאים 11</td>\n",
       "      <td>בת ים</td>\n",
       "      <td>גג/פנטהאוז</td>\n",
       "      <td>3</td>\n",
       "      <td>7</td>\n",
       "      <td>85</td>\n",
       "      <td>2022/11/06</td>\n",
       "      <td>2022/11/06</td>\n",
       "    </tr>\n",
       "    <tr>\n",
       "      <th>175</th>\n",
       "      <td>3780000</td>\n",
       "      <td>לב תל אביב, לב העיר צפון</td>\n",
       "      <td>תל אביב יפו</td>\n",
       "      <td>דירה</td>\n",
       "      <td>2</td>\n",
       "      <td>1</td>\n",
       "      <td>72</td>\n",
       "      <td>2022/11/06</td>\n",
       "      <td>2022/11/06</td>\n",
       "    </tr>\n",
       "    <tr>\n",
       "      <th>176</th>\n",
       "      <td>7100000</td>\n",
       "      <td>לב תל אביב, לב העיר צפון</td>\n",
       "      <td>תל אביב יפו</td>\n",
       "      <td>דירה</td>\n",
       "      <td>4</td>\n",
       "      <td>3</td>\n",
       "      <td>135</td>\n",
       "      <td>2022/11/06</td>\n",
       "      <td>2022/11/06</td>\n",
       "    </tr>\n",
       "  </tbody>\n",
       "</table>\n",
       "<p>177 rows × 9 columns</p>\n",
       "</div>"
      ],
      "text/plain": [
       "       price                   address         city        type  rooms  floor  \\\n",
       "0    3150000             שדרות בגין 55     כפר יונה  גג/פנטהאוז      5      5   \n",
       "1    2200000           אירוס הארגמן 52        נתניה        דירה      4      2   \n",
       "2     880000               בר גיורא 42         חיפה        דירה      3      1   \n",
       "3    3100000              תוצרת הארץ 5  תל אביב יפו        דירה      2     16   \n",
       "4    1836000       שדרות ששת הימים 327         אילת        דירה      3      3   \n",
       "..       ...                       ...          ...         ...    ...    ...   \n",
       "172  3200000                     אחוזה         חיפה  גג/פנטהאוז      6      4   \n",
       "173  2190000                  נחל תמנע      בית שמש        דירה      4      2   \n",
       "174  2540000                הנביאים 11        בת ים  גג/פנטהאוז      3      7   \n",
       "175  3780000  לב תל אביב, לב העיר צפון  תל אביב יפו        דירה      2      1   \n",
       "176  7100000  לב תל אביב, לב העיר צפון  תל אביב יפו        דירה      4      3   \n",
       "\n",
       "     size      update  scrap_date  \n",
       "0     250  2022/11/06  2022/11/06  \n",
       "1      84  2022/11/06  2022/11/06  \n",
       "2      76  2022/11/06  2022/11/06  \n",
       "3      66  2022/11/06  2022/11/06  \n",
       "4     106  2022/11/06  2022/11/06  \n",
       "..    ...         ...         ...  \n",
       "172   150  2022/11/06  2022/11/06  \n",
       "173   100  2022/11/06  2022/11/06  \n",
       "174    85  2022/11/06  2022/11/06  \n",
       "175    72  2022/11/06  2022/11/06  \n",
       "176   135  2022/11/06  2022/11/06  \n",
       "\n",
       "[177 rows x 9 columns]"
      ]
     },
     "execution_count": 3,
     "metadata": {},
     "output_type": "execute_result"
    }
   ],
   "source": [
    "df = get_posts_DataFrame(last_page_num=last_page_num)\n",
    "df"
   ]
  },
  {
   "cell_type": "markdown",
   "id": "9f0889f9-7460-497c-b2c4-e4191adf5d94",
   "metadata": {},
   "source": [
    "## Save to your local computer"
   ]
  },
  {
   "cell_type": "code",
   "execution_count": null,
   "id": "93dc7d69-d34f-4124-8591-72fbcefddb76",
   "metadata": {},
   "outputs": [],
   "source": [
    "df.to_excel('Houses.xlsx', index=False)"
   ]
  },
  {
   "cell_type": "markdown",
   "id": "71a13bdc-fbe3-4677-9dee-1ebbb83a9e32",
   "metadata": {},
   "source": [
    "# Result\n",
    "1) Upload the table to [your own Google Sheets](https://docs.google.com/spreadsheets/u/0/).\n",
    "2) Build a dashbord in [google Looker (data studio)](https://datastudio.google.com/u/0/).\n",
    "3) Visit my [dashbord](https://datastudio.google.com/embed/reporting/90738cd2-b077-4b71-9b46-25bb2ce8e4c6/page/V806C)! (takes few seconds)"
   ]
  },
  {
   "cell_type": "markdown",
   "id": "b6eb773d",
   "metadata": {},
   "source": []
  }
 ],
 "metadata": {
  "kernelspec": {
   "display_name": "Python 3",
   "language": "python",
   "name": "python3"
  },
  "language_info": {
   "codemirror_mode": {
    "name": "ipython",
    "version": 3
   },
   "file_extension": ".py",
   "mimetype": "text/x-python",
   "name": "python",
   "nbconvert_exporter": "python",
   "pygments_lexer": "ipython3",
   "version": "3.10.7"
  },
  "vscode": {
   "interpreter": {
    "hash": "999d9b79ac094092b0c82a8dc1cdc0b94cca3920717e267b46aedd5735ff94e5"
   }
  }
 },
 "nbformat": 4,
 "nbformat_minor": 5
}
